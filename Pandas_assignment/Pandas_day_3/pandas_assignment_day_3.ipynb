{
 "cells": [
  {
   "cell_type": "code",
   "execution_count": 30,
   "metadata": {
    "id": "SzelgyB0FsQf"
   },
   "outputs": [],
   "source": [
    "import pandas as pd\n",
    "import numpy as np\n",
    "data  = {'name': ['Anastasia', 'Dima', 'Katherine', 'James', 'Emily', 'Michael', 'Matthew', 'Laura', 'Kevin', 'Jonas'],\n",
    "        'score': [12.5, 9, 16.5, np.nan, 9, 20, 14.5, np.nan, 8, 19],\n",
    "        'attempts': [1, 3, 2, 3, 2, 3, 1, 1, 2, 1],\n",
    "        'qualify': ['yes', 'no', 'yes', 'no', 'no', 'yes', 'yes', 'no', 'no', 'yes']}\n",
    "labels = ['a', 'b', 'c', 'd', 'e', 'f', 'g', 'h', 'i', 'j']"
   ]
  },
  {
   "cell_type": "markdown",
   "metadata": {
    "id": "bmqotkScF6nK"
   },
   "source": [
    "##### Write a Pandas program to create a dataframe by given dictionary and index as lables"
   ]
  },
  {
   "cell_type": "code",
   "execution_count": 31,
   "metadata": {
    "id": "SpSpUAs4GAyp"
   },
   "outputs": [
    {
     "name": "stdout",
     "output_type": "stream",
     "text": [
      "        name  score  attempts qualify\n",
      "a  Anastasia   12.5         1     yes\n",
      "b       Dima    9.0         3      no\n",
      "c  Katherine   16.5         2     yes\n",
      "d      James    NaN         3      no\n",
      "e      Emily    9.0         2      no\n",
      "f    Michael   20.0         3     yes\n",
      "g    Matthew   14.5         1     yes\n",
      "h      Laura    NaN         1      no\n",
      "i      Kevin    8.0         2      no\n",
      "j      Jonas   19.0         1     yes\n"
     ]
    }
   ],
   "source": [
    "### code here\n",
    "df = pd.DataFrame(data, index=labels)\n",
    "print(df)"
   ]
  },
  {
   "cell_type": "markdown",
   "metadata": {
    "id": "5tZv1fW4GH85"
   },
   "source": [
    "##### 1. Write a Pandas program to sort the DataFrame first by 'name' in descending order, then by 'score' in ascending order"
   ]
  },
  {
   "cell_type": "code",
   "execution_count": 32,
   "metadata": {
    "id": "WG9r8neaGAvk"
   },
   "outputs": [
    {
     "name": "stdout",
     "output_type": "stream",
     "text": [
      "        name  score  attempts qualify\n",
      "f    Michael   20.0         3     yes\n",
      "g    Matthew   14.5         1     yes\n",
      "h      Laura    NaN         1      no\n",
      "i      Kevin    8.0         2      no\n",
      "c  Katherine   16.5         2     yes\n",
      "j      Jonas   19.0         1     yes\n",
      "d      James    NaN         3      no\n",
      "e      Emily    9.0         2      no\n",
      "b       Dima    9.0         3      no\n",
      "a  Anastasia   12.5         1     yes\n"
     ]
    }
   ],
   "source": [
    "### code here\n",
    "df = pd.DataFrame(data, labels)\n",
    "df = df.sort_values(by=['name', 'score'], ascending=[False, True])\n",
    "print(df)"
   ]
  },
  {
   "cell_type": "markdown",
   "metadata": {
    "id": "UI3jsb0LGL8L"
   },
   "source": [
    "###### 2. Write a Pandas program to replace the 'qualify' column contains the values 'yes' and 'no' with True and False"
   ]
  },
  {
   "cell_type": "code",
   "execution_count": 33,
   "metadata": {
    "id": "cTWwRf-MGAt0"
   },
   "outputs": [
    {
     "name": "stdout",
     "output_type": "stream",
     "text": [
      "        name  score  attempts  qualify\n",
      "f    Michael   20.0         3     True\n",
      "g    Matthew   14.5         1     True\n",
      "h      Laura    NaN         1    False\n",
      "i      Kevin    8.0         2    False\n",
      "c  Katherine   16.5         2     True\n",
      "j      Jonas   19.0         1     True\n",
      "d      James    NaN         3    False\n",
      "e      Emily    9.0         2    False\n",
      "b       Dima    9.0         3    False\n",
      "a  Anastasia   12.5         1     True\n"
     ]
    }
   ],
   "source": [
    "### code here\n",
    "df[\"qualify\"] = df[\"qualify\"].map({\"yes\": True, \"no\": False})\n",
    "print(df)"
   ]
  },
  {
   "cell_type": "markdown",
   "metadata": {
    "id": "Jmd2TTurGPW6"
   },
   "source": [
    "#####3. Write a Pandas program to delete the 'attempts' column from the DataFrame"
   ]
  },
  {
   "cell_type": "code",
   "execution_count": 34,
   "metadata": {
    "id": "tunip-07GArs"
   },
   "outputs": [
    {
     "name": "stdout",
     "output_type": "stream",
     "text": [
      "        name  score  qualify\n",
      "f    Michael   20.0     True\n",
      "g    Matthew   14.5     True\n",
      "h      Laura    NaN    False\n",
      "i      Kevin    8.0    False\n",
      "c  Katherine   16.5     True\n",
      "j      Jonas   19.0     True\n",
      "d      James    NaN    False\n",
      "e      Emily    9.0    False\n",
      "b       Dima    9.0    False\n",
      "a  Anastasia   12.5     True\n"
     ]
    }
   ],
   "source": [
    "### code here\n",
    "df = df.drop('attempts', axis=1)\n",
    "\n",
    "print(df)\n"
   ]
  },
  {
   "cell_type": "markdown",
   "metadata": {
    "id": "pytvrGs3GWHj"
   },
   "source": [
    "##### 4. Write a Pandas program to insert a new column in existing DataFrame."
   ]
  },
  {
   "cell_type": "code",
   "execution_count": 35,
   "metadata": {
    "id": "FEBd2rlkGAph"
   },
   "outputs": [
    {
     "data": {
      "text/html": [
       "<div>\n",
       "<style scoped>\n",
       "    .dataframe tbody tr th:only-of-type {\n",
       "        vertical-align: middle;\n",
       "    }\n",
       "\n",
       "    .dataframe tbody tr th {\n",
       "        vertical-align: top;\n",
       "    }\n",
       "\n",
       "    .dataframe thead th {\n",
       "        text-align: right;\n",
       "    }\n",
       "</style>\n",
       "<table border=\"1\" class=\"dataframe\">\n",
       "  <thead>\n",
       "    <tr style=\"text-align: right;\">\n",
       "      <th></th>\n",
       "      <th>name</th>\n",
       "      <th>score</th>\n",
       "      <th>qualify</th>\n",
       "      <th>kiran</th>\n",
       "    </tr>\n",
       "  </thead>\n",
       "  <tbody>\n",
       "    <tr>\n",
       "      <th>f</th>\n",
       "      <td>Michael</td>\n",
       "      <td>20.0</td>\n",
       "      <td>True</td>\n",
       "      <td>None</td>\n",
       "    </tr>\n",
       "    <tr>\n",
       "      <th>g</th>\n",
       "      <td>Matthew</td>\n",
       "      <td>14.5</td>\n",
       "      <td>True</td>\n",
       "      <td>None</td>\n",
       "    </tr>\n",
       "    <tr>\n",
       "      <th>h</th>\n",
       "      <td>Laura</td>\n",
       "      <td>NaN</td>\n",
       "      <td>False</td>\n",
       "      <td>None</td>\n",
       "    </tr>\n",
       "    <tr>\n",
       "      <th>i</th>\n",
       "      <td>Kevin</td>\n",
       "      <td>8.0</td>\n",
       "      <td>False</td>\n",
       "      <td>None</td>\n",
       "    </tr>\n",
       "    <tr>\n",
       "      <th>c</th>\n",
       "      <td>Katherine</td>\n",
       "      <td>16.5</td>\n",
       "      <td>True</td>\n",
       "      <td>None</td>\n",
       "    </tr>\n",
       "    <tr>\n",
       "      <th>j</th>\n",
       "      <td>Jonas</td>\n",
       "      <td>19.0</td>\n",
       "      <td>True</td>\n",
       "      <td>None</td>\n",
       "    </tr>\n",
       "    <tr>\n",
       "      <th>d</th>\n",
       "      <td>James</td>\n",
       "      <td>NaN</td>\n",
       "      <td>False</td>\n",
       "      <td>None</td>\n",
       "    </tr>\n",
       "    <tr>\n",
       "      <th>e</th>\n",
       "      <td>Emily</td>\n",
       "      <td>9.0</td>\n",
       "      <td>False</td>\n",
       "      <td>None</td>\n",
       "    </tr>\n",
       "    <tr>\n",
       "      <th>b</th>\n",
       "      <td>Dima</td>\n",
       "      <td>9.0</td>\n",
       "      <td>False</td>\n",
       "      <td>None</td>\n",
       "    </tr>\n",
       "    <tr>\n",
       "      <th>a</th>\n",
       "      <td>Anastasia</td>\n",
       "      <td>12.5</td>\n",
       "      <td>True</td>\n",
       "      <td>None</td>\n",
       "    </tr>\n",
       "  </tbody>\n",
       "</table>\n",
       "</div>"
      ],
      "text/plain": [
       "        name  score  qualify kiran\n",
       "f    Michael   20.0     True  None\n",
       "g    Matthew   14.5     True  None\n",
       "h      Laura    NaN    False  None\n",
       "i      Kevin    8.0    False  None\n",
       "c  Katherine   16.5     True  None\n",
       "j      Jonas   19.0     True  None\n",
       "d      James    NaN    False  None\n",
       "e      Emily    9.0    False  None\n",
       "b       Dima    9.0    False  None\n",
       "a  Anastasia   12.5     True  None"
      ]
     },
     "execution_count": 35,
     "metadata": {},
     "output_type": "execute_result"
    }
   ],
   "source": [
    "### code here\n",
    "df[\"kiran\"]=None\n",
    "df"
   ]
  },
  {
   "cell_type": "markdown",
   "metadata": {
    "id": "k7uTHxM7Gb01"
   },
   "source": [
    "##### 5. Write a Pandas program to change the name 'James' to 'Maxwell' in name column of the DataFrame."
   ]
  },
  {
   "cell_type": "code",
   "execution_count": 36,
   "metadata": {
    "id": "9LOk5magGAmZ"
   },
   "outputs": [
    {
     "data": {
      "text/plain": [
       "f      Michael\n",
       "g      Matthew\n",
       "h        Laura\n",
       "i        Kevin\n",
       "c    Katherine\n",
       "j        Jonas\n",
       "d      Maxwell\n",
       "e        Emily\n",
       "b         Dima\n",
       "a    Anastasia\n",
       "Name: name, dtype: object"
      ]
     },
     "execution_count": 36,
     "metadata": {},
     "output_type": "execute_result"
    }
   ],
   "source": [
    "### code here\n",
    "df.name.str.replace(\"James\",\"Maxwell\")"
   ]
  },
  {
   "cell_type": "markdown",
   "metadata": {
    "id": "eYEPFPB5i7Aa"
   },
   "source": [
    "##### 6. Write a Pandas program to rename columns of a given DataFrame"
   ]
  },
  {
   "cell_type": "code",
   "execution_count": 37,
   "metadata": {
    "id": "9wniiqnsi1_Y"
   },
   "outputs": [],
   "source": [
    "### code here\n",
    "df.rename(columns={\"name\":\"NAME\",\"score\":\"SCORE\",\"qualify\":\"QUALIFY\",\"kiran\":\"KIRAN\"},inplace=True)"
   ]
  },
  {
   "cell_type": "code",
   "execution_count": 38,
   "metadata": {},
   "outputs": [
    {
     "data": {
      "text/html": [
       "<div>\n",
       "<style scoped>\n",
       "    .dataframe tbody tr th:only-of-type {\n",
       "        vertical-align: middle;\n",
       "    }\n",
       "\n",
       "    .dataframe tbody tr th {\n",
       "        vertical-align: top;\n",
       "    }\n",
       "\n",
       "    .dataframe thead th {\n",
       "        text-align: right;\n",
       "    }\n",
       "</style>\n",
       "<table border=\"1\" class=\"dataframe\">\n",
       "  <thead>\n",
       "    <tr style=\"text-align: right;\">\n",
       "      <th></th>\n",
       "      <th>NAME</th>\n",
       "      <th>SCORE</th>\n",
       "      <th>QUALIFY</th>\n",
       "      <th>KIRAN</th>\n",
       "    </tr>\n",
       "  </thead>\n",
       "  <tbody>\n",
       "    <tr>\n",
       "      <th>f</th>\n",
       "      <td>Michael</td>\n",
       "      <td>20.0</td>\n",
       "      <td>True</td>\n",
       "      <td>None</td>\n",
       "    </tr>\n",
       "    <tr>\n",
       "      <th>g</th>\n",
       "      <td>Matthew</td>\n",
       "      <td>14.5</td>\n",
       "      <td>True</td>\n",
       "      <td>None</td>\n",
       "    </tr>\n",
       "    <tr>\n",
       "      <th>h</th>\n",
       "      <td>Laura</td>\n",
       "      <td>NaN</td>\n",
       "      <td>False</td>\n",
       "      <td>None</td>\n",
       "    </tr>\n",
       "    <tr>\n",
       "      <th>i</th>\n",
       "      <td>Kevin</td>\n",
       "      <td>8.0</td>\n",
       "      <td>False</td>\n",
       "      <td>None</td>\n",
       "    </tr>\n",
       "    <tr>\n",
       "      <th>c</th>\n",
       "      <td>Katherine</td>\n",
       "      <td>16.5</td>\n",
       "      <td>True</td>\n",
       "      <td>None</td>\n",
       "    </tr>\n",
       "    <tr>\n",
       "      <th>j</th>\n",
       "      <td>Jonas</td>\n",
       "      <td>19.0</td>\n",
       "      <td>True</td>\n",
       "      <td>None</td>\n",
       "    </tr>\n",
       "    <tr>\n",
       "      <th>d</th>\n",
       "      <td>James</td>\n",
       "      <td>NaN</td>\n",
       "      <td>False</td>\n",
       "      <td>None</td>\n",
       "    </tr>\n",
       "    <tr>\n",
       "      <th>e</th>\n",
       "      <td>Emily</td>\n",
       "      <td>9.0</td>\n",
       "      <td>False</td>\n",
       "      <td>None</td>\n",
       "    </tr>\n",
       "    <tr>\n",
       "      <th>b</th>\n",
       "      <td>Dima</td>\n",
       "      <td>9.0</td>\n",
       "      <td>False</td>\n",
       "      <td>None</td>\n",
       "    </tr>\n",
       "    <tr>\n",
       "      <th>a</th>\n",
       "      <td>Anastasia</td>\n",
       "      <td>12.5</td>\n",
       "      <td>True</td>\n",
       "      <td>None</td>\n",
       "    </tr>\n",
       "  </tbody>\n",
       "</table>\n",
       "</div>"
      ],
      "text/plain": [
       "        NAME  SCORE  QUALIFY KIRAN\n",
       "f    Michael   20.0     True  None\n",
       "g    Matthew   14.5     True  None\n",
       "h      Laura    NaN    False  None\n",
       "i      Kevin    8.0    False  None\n",
       "c  Katherine   16.5     True  None\n",
       "j      Jonas   19.0     True  None\n",
       "d      James    NaN    False  None\n",
       "e      Emily    9.0    False  None\n",
       "b       Dima    9.0    False  None\n",
       "a  Anastasia   12.5     True  None"
      ]
     },
     "execution_count": 38,
     "metadata": {},
     "output_type": "execute_result"
    }
   ],
   "source": [
    "df"
   ]
  },
  {
   "cell_type": "markdown",
   "metadata": {
    "id": "oG1UL2YQjCHb"
   },
   "source": [
    "##### 7. Write a Pandas program to convert the datatype of a given column (floats to ints)."
   ]
  },
  {
   "cell_type": "code",
   "execution_count": 39,
   "metadata": {
    "id": "-uA_4KTOi2Bz"
   },
   "outputs": [
    {
     "name": "stdout",
     "output_type": "stream",
     "text": [
      "<class 'pandas.core.frame.DataFrame'>\n",
      "Index: 10 entries, f to a\n",
      "Data columns (total 4 columns):\n",
      " #   Column   Non-Null Count  Dtype  \n",
      "---  ------   --------------  -----  \n",
      " 0   NAME     10 non-null     object \n",
      " 1   SCORE    8 non-null      float64\n",
      " 2   QUALIFY  10 non-null     bool   \n",
      " 3   KIRAN    0 non-null      object \n",
      "dtypes: bool(1), float64(1), object(2)\n",
      "memory usage: 630.0+ bytes\n"
     ]
    }
   ],
   "source": [
    "### code here \n",
    "df.info()"
   ]
  },
  {
   "cell_type": "code",
   "execution_count": 40,
   "metadata": {},
   "outputs": [],
   "source": [
    "df[\"SCORE\"].fillna(-1, inplace=True)\n",
    "df[\"SCORE\"]=df[\"SCORE\"].astype(int)"
   ]
  },
  {
   "cell_type": "code",
   "execution_count": 41,
   "metadata": {},
   "outputs": [
    {
     "name": "stdout",
     "output_type": "stream",
     "text": [
      "<class 'pandas.core.frame.DataFrame'>\n",
      "Index: 10 entries, f to a\n",
      "Data columns (total 4 columns):\n",
      " #   Column   Non-Null Count  Dtype \n",
      "---  ------   --------------  ----- \n",
      " 0   NAME     10 non-null     object\n",
      " 1   SCORE    10 non-null     int32 \n",
      " 2   QUALIFY  10 non-null     bool  \n",
      " 3   KIRAN    0 non-null      object\n",
      "dtypes: bool(1), int32(1), object(2)\n",
      "memory usage: 590.0+ bytes\n"
     ]
    }
   ],
   "source": [
    "df.info()"
   ]
  },
  {
   "cell_type": "markdown",
   "metadata": {
    "id": "ak8tUSoRjJoK"
   },
   "source": [
    "###### 8.  Write a Pandas program to convert index in a column of the given dataframe. "
   ]
  },
  {
   "cell_type": "code",
   "execution_count": 42,
   "metadata": {
    "id": "I04CWvPii2EY"
   },
   "outputs": [],
   "source": [
    "### code here \n",
    "df.reset_index(inplace=True)\n",
    "df.rename(columns={'index': 'ID'}, inplace=True)"
   ]
  },
  {
   "cell_type": "code",
   "execution_count": 43,
   "metadata": {},
   "outputs": [
    {
     "data": {
      "text/html": [
       "<div>\n",
       "<style scoped>\n",
       "    .dataframe tbody tr th:only-of-type {\n",
       "        vertical-align: middle;\n",
       "    }\n",
       "\n",
       "    .dataframe tbody tr th {\n",
       "        vertical-align: top;\n",
       "    }\n",
       "\n",
       "    .dataframe thead th {\n",
       "        text-align: right;\n",
       "    }\n",
       "</style>\n",
       "<table border=\"1\" class=\"dataframe\">\n",
       "  <thead>\n",
       "    <tr style=\"text-align: right;\">\n",
       "      <th></th>\n",
       "      <th>ID</th>\n",
       "      <th>NAME</th>\n",
       "      <th>SCORE</th>\n",
       "      <th>QUALIFY</th>\n",
       "      <th>KIRAN</th>\n",
       "    </tr>\n",
       "  </thead>\n",
       "  <tbody>\n",
       "    <tr>\n",
       "      <th>0</th>\n",
       "      <td>f</td>\n",
       "      <td>Michael</td>\n",
       "      <td>20</td>\n",
       "      <td>True</td>\n",
       "      <td>None</td>\n",
       "    </tr>\n",
       "    <tr>\n",
       "      <th>1</th>\n",
       "      <td>g</td>\n",
       "      <td>Matthew</td>\n",
       "      <td>14</td>\n",
       "      <td>True</td>\n",
       "      <td>None</td>\n",
       "    </tr>\n",
       "    <tr>\n",
       "      <th>2</th>\n",
       "      <td>h</td>\n",
       "      <td>Laura</td>\n",
       "      <td>-1</td>\n",
       "      <td>False</td>\n",
       "      <td>None</td>\n",
       "    </tr>\n",
       "    <tr>\n",
       "      <th>3</th>\n",
       "      <td>i</td>\n",
       "      <td>Kevin</td>\n",
       "      <td>8</td>\n",
       "      <td>False</td>\n",
       "      <td>None</td>\n",
       "    </tr>\n",
       "    <tr>\n",
       "      <th>4</th>\n",
       "      <td>c</td>\n",
       "      <td>Katherine</td>\n",
       "      <td>16</td>\n",
       "      <td>True</td>\n",
       "      <td>None</td>\n",
       "    </tr>\n",
       "    <tr>\n",
       "      <th>5</th>\n",
       "      <td>j</td>\n",
       "      <td>Jonas</td>\n",
       "      <td>19</td>\n",
       "      <td>True</td>\n",
       "      <td>None</td>\n",
       "    </tr>\n",
       "    <tr>\n",
       "      <th>6</th>\n",
       "      <td>d</td>\n",
       "      <td>James</td>\n",
       "      <td>-1</td>\n",
       "      <td>False</td>\n",
       "      <td>None</td>\n",
       "    </tr>\n",
       "    <tr>\n",
       "      <th>7</th>\n",
       "      <td>e</td>\n",
       "      <td>Emily</td>\n",
       "      <td>9</td>\n",
       "      <td>False</td>\n",
       "      <td>None</td>\n",
       "    </tr>\n",
       "    <tr>\n",
       "      <th>8</th>\n",
       "      <td>b</td>\n",
       "      <td>Dima</td>\n",
       "      <td>9</td>\n",
       "      <td>False</td>\n",
       "      <td>None</td>\n",
       "    </tr>\n",
       "    <tr>\n",
       "      <th>9</th>\n",
       "      <td>a</td>\n",
       "      <td>Anastasia</td>\n",
       "      <td>12</td>\n",
       "      <td>True</td>\n",
       "      <td>None</td>\n",
       "    </tr>\n",
       "  </tbody>\n",
       "</table>\n",
       "</div>"
      ],
      "text/plain": [
       "  ID       NAME  SCORE  QUALIFY KIRAN\n",
       "0  f    Michael     20     True  None\n",
       "1  g    Matthew     14     True  None\n",
       "2  h      Laura     -1    False  None\n",
       "3  i      Kevin      8    False  None\n",
       "4  c  Katherine     16     True  None\n",
       "5  j      Jonas     19     True  None\n",
       "6  d      James     -1    False  None\n",
       "7  e      Emily      9    False  None\n",
       "8  b       Dima      9    False  None\n",
       "9  a  Anastasia     12     True  None"
      ]
     },
     "execution_count": 43,
     "metadata": {},
     "output_type": "execute_result"
    }
   ],
   "source": [
    "df"
   ]
  },
  {
   "cell_type": "markdown",
   "metadata": {
    "id": "I2aKjC0SjSVs"
   },
   "source": [
    "##### 9. Write a Pandas program to shuffle a DataFrame rows."
   ]
  },
  {
   "cell_type": "code",
   "execution_count": 44,
   "metadata": {
    "id": "LA8GD0QGi2HE"
   },
   "outputs": [
    {
     "data": {
      "text/html": [
       "<div>\n",
       "<style scoped>\n",
       "    .dataframe tbody tr th:only-of-type {\n",
       "        vertical-align: middle;\n",
       "    }\n",
       "\n",
       "    .dataframe tbody tr th {\n",
       "        vertical-align: top;\n",
       "    }\n",
       "\n",
       "    .dataframe thead th {\n",
       "        text-align: right;\n",
       "    }\n",
       "</style>\n",
       "<table border=\"1\" class=\"dataframe\">\n",
       "  <thead>\n",
       "    <tr style=\"text-align: right;\">\n",
       "      <th></th>\n",
       "      <th>ID</th>\n",
       "      <th>NAME</th>\n",
       "      <th>SCORE</th>\n",
       "      <th>QUALIFY</th>\n",
       "      <th>KIRAN</th>\n",
       "    </tr>\n",
       "  </thead>\n",
       "  <tbody>\n",
       "    <tr>\n",
       "      <th>0</th>\n",
       "      <td>a</td>\n",
       "      <td>Anastasia</td>\n",
       "      <td>12</td>\n",
       "      <td>True</td>\n",
       "      <td>None</td>\n",
       "    </tr>\n",
       "    <tr>\n",
       "      <th>1</th>\n",
       "      <td>f</td>\n",
       "      <td>Michael</td>\n",
       "      <td>20</td>\n",
       "      <td>True</td>\n",
       "      <td>None</td>\n",
       "    </tr>\n",
       "    <tr>\n",
       "      <th>2</th>\n",
       "      <td>c</td>\n",
       "      <td>Katherine</td>\n",
       "      <td>16</td>\n",
       "      <td>True</td>\n",
       "      <td>None</td>\n",
       "    </tr>\n",
       "    <tr>\n",
       "      <th>3</th>\n",
       "      <td>d</td>\n",
       "      <td>James</td>\n",
       "      <td>-1</td>\n",
       "      <td>False</td>\n",
       "      <td>None</td>\n",
       "    </tr>\n",
       "    <tr>\n",
       "      <th>4</th>\n",
       "      <td>j</td>\n",
       "      <td>Jonas</td>\n",
       "      <td>19</td>\n",
       "      <td>True</td>\n",
       "      <td>None</td>\n",
       "    </tr>\n",
       "    <tr>\n",
       "      <th>5</th>\n",
       "      <td>i</td>\n",
       "      <td>Kevin</td>\n",
       "      <td>8</td>\n",
       "      <td>False</td>\n",
       "      <td>None</td>\n",
       "    </tr>\n",
       "    <tr>\n",
       "      <th>6</th>\n",
       "      <td>g</td>\n",
       "      <td>Matthew</td>\n",
       "      <td>14</td>\n",
       "      <td>True</td>\n",
       "      <td>None</td>\n",
       "    </tr>\n",
       "    <tr>\n",
       "      <th>7</th>\n",
       "      <td>e</td>\n",
       "      <td>Emily</td>\n",
       "      <td>9</td>\n",
       "      <td>False</td>\n",
       "      <td>None</td>\n",
       "    </tr>\n",
       "    <tr>\n",
       "      <th>8</th>\n",
       "      <td>h</td>\n",
       "      <td>Laura</td>\n",
       "      <td>-1</td>\n",
       "      <td>False</td>\n",
       "      <td>None</td>\n",
       "    </tr>\n",
       "    <tr>\n",
       "      <th>9</th>\n",
       "      <td>b</td>\n",
       "      <td>Dima</td>\n",
       "      <td>9</td>\n",
       "      <td>False</td>\n",
       "      <td>None</td>\n",
       "    </tr>\n",
       "  </tbody>\n",
       "</table>\n",
       "</div>"
      ],
      "text/plain": [
       "  ID       NAME  SCORE  QUALIFY KIRAN\n",
       "0  a  Anastasia     12     True  None\n",
       "1  f    Michael     20     True  None\n",
       "2  c  Katherine     16     True  None\n",
       "3  d      James     -1    False  None\n",
       "4  j      Jonas     19     True  None\n",
       "5  i      Kevin      8    False  None\n",
       "6  g    Matthew     14     True  None\n",
       "7  e      Emily      9    False  None\n",
       "8  h      Laura     -1    False  None\n",
       "9  b       Dima      9    False  None"
      ]
     },
     "execution_count": 44,
     "metadata": {},
     "output_type": "execute_result"
    }
   ],
   "source": [
    "### code here\n",
    "df = df.sample(frac=1).reset_index(drop=True)\n",
    "df"
   ]
  },
  {
   "cell_type": "markdown",
   "metadata": {
    "id": "Qe6YaPPujakS"
   },
   "source": [
    "##### 10 Write a Pandas program to write a DataFrame to CSV file using tab separator"
   ]
  },
  {
   "cell_type": "code",
   "execution_count": 48,
   "metadata": {
    "id": "428Akc6Ki2J3"
   },
   "outputs": [],
   "source": [
    "### code here\n",
    "df.to_csv('data.csv', sep='\\t', index=False)"
   ]
  },
  {
   "cell_type": "code",
   "execution_count": null,
   "metadata": {
    "id": "Ul1Pk5Nkjr1M"
   },
   "outputs": [],
   "source": []
  },
  {
   "cell_type": "code",
   "execution_count": null,
   "metadata": {
    "id": "vfDgKHpDjsNl"
   },
   "outputs": [],
   "source": []
  },
  {
   "cell_type": "code",
   "execution_count": 46,
   "metadata": {
    "id": "bbPCO63eGr7r"
   },
   "outputs": [],
   "source": [
    "student_data1 = pd.DataFrame({\n",
    "        'student_id': ['S1', 'S2', 'S3', 'S4', 'S5'],\n",
    "         'name': ['Danniella Fenton', 'Ryder Storey', 'Bryce Jensen', 'Ed Bernal', 'Kwame Morin'], \n",
    "        'marks': [200, 210, 190, 222, 199]})\n",
    "\n",
    "student_data2 = pd.DataFrame({\n",
    "        'student_id': ['S4', 'S5', 'S6', 'S7', 'S8'],\n",
    "        'name': ['Scarlette Fisher', 'Carla Williamson', 'Dante Morse', 'Kaiser William', 'Madeeha Preston'], \n",
    "        'marks': [201, 200, 198, 219, 201]})"
   ]
  },
  {
   "cell_type": "markdown",
   "metadata": {
    "id": "DLz-hmmlzLTD"
   },
   "source": [
    "#####11. Write a Pandas program to join the two given dataframes along rows and assign all data."
   ]
  },
  {
   "cell_type": "code",
   "execution_count": 47,
   "metadata": {
    "id": "21xLDGUMzKL4"
   },
   "outputs": [
    {
     "data": {
      "text/html": [
       "<div>\n",
       "<style scoped>\n",
       "    .dataframe tbody tr th:only-of-type {\n",
       "        vertical-align: middle;\n",
       "    }\n",
       "\n",
       "    .dataframe tbody tr th {\n",
       "        vertical-align: top;\n",
       "    }\n",
       "\n",
       "    .dataframe thead th {\n",
       "        text-align: right;\n",
       "    }\n",
       "</style>\n",
       "<table border=\"1\" class=\"dataframe\">\n",
       "  <thead>\n",
       "    <tr style=\"text-align: right;\">\n",
       "      <th></th>\n",
       "      <th>student_id</th>\n",
       "      <th>name</th>\n",
       "      <th>marks</th>\n",
       "    </tr>\n",
       "  </thead>\n",
       "  <tbody>\n",
       "    <tr>\n",
       "      <th>0</th>\n",
       "      <td>S1</td>\n",
       "      <td>Danniella Fenton</td>\n",
       "      <td>200</td>\n",
       "    </tr>\n",
       "    <tr>\n",
       "      <th>1</th>\n",
       "      <td>S2</td>\n",
       "      <td>Ryder Storey</td>\n",
       "      <td>210</td>\n",
       "    </tr>\n",
       "    <tr>\n",
       "      <th>2</th>\n",
       "      <td>S3</td>\n",
       "      <td>Bryce Jensen</td>\n",
       "      <td>190</td>\n",
       "    </tr>\n",
       "    <tr>\n",
       "      <th>3</th>\n",
       "      <td>S4</td>\n",
       "      <td>Ed Bernal</td>\n",
       "      <td>222</td>\n",
       "    </tr>\n",
       "    <tr>\n",
       "      <th>4</th>\n",
       "      <td>S5</td>\n",
       "      <td>Kwame Morin</td>\n",
       "      <td>199</td>\n",
       "    </tr>\n",
       "    <tr>\n",
       "      <th>0</th>\n",
       "      <td>S4</td>\n",
       "      <td>Scarlette Fisher</td>\n",
       "      <td>201</td>\n",
       "    </tr>\n",
       "    <tr>\n",
       "      <th>1</th>\n",
       "      <td>S5</td>\n",
       "      <td>Carla Williamson</td>\n",
       "      <td>200</td>\n",
       "    </tr>\n",
       "    <tr>\n",
       "      <th>2</th>\n",
       "      <td>S6</td>\n",
       "      <td>Dante Morse</td>\n",
       "      <td>198</td>\n",
       "    </tr>\n",
       "    <tr>\n",
       "      <th>3</th>\n",
       "      <td>S7</td>\n",
       "      <td>Kaiser William</td>\n",
       "      <td>219</td>\n",
       "    </tr>\n",
       "    <tr>\n",
       "      <th>4</th>\n",
       "      <td>S8</td>\n",
       "      <td>Madeeha Preston</td>\n",
       "      <td>201</td>\n",
       "    </tr>\n",
       "  </tbody>\n",
       "</table>\n",
       "</div>"
      ],
      "text/plain": [
       "  student_id              name  marks\n",
       "0         S1  Danniella Fenton    200\n",
       "1         S2      Ryder Storey    210\n",
       "2         S3      Bryce Jensen    190\n",
       "3         S4         Ed Bernal    222\n",
       "4         S5       Kwame Morin    199\n",
       "0         S4  Scarlette Fisher    201\n",
       "1         S5  Carla Williamson    200\n",
       "2         S6       Dante Morse    198\n",
       "3         S7    Kaiser William    219\n",
       "4         S8   Madeeha Preston    201"
      ]
     },
     "execution_count": 47,
     "metadata": {},
     "output_type": "execute_result"
    }
   ],
   "source": [
    "### code here\n",
    "pd.concat([student_data1,student_data2],axis=0)"
   ]
  },
  {
   "cell_type": "markdown",
   "metadata": {
    "id": "37u4eXAozm5m"
   },
   "source": [
    "##### 12. Write a Pandas program to join the two given dataframes along columns and assign all data."
   ]
  },
  {
   "cell_type": "code",
   "execution_count": 49,
   "metadata": {
    "id": "USytXbiXzKN8"
   },
   "outputs": [
    {
     "data": {
      "text/html": [
       "<div>\n",
       "<style scoped>\n",
       "    .dataframe tbody tr th:only-of-type {\n",
       "        vertical-align: middle;\n",
       "    }\n",
       "\n",
       "    .dataframe tbody tr th {\n",
       "        vertical-align: top;\n",
       "    }\n",
       "\n",
       "    .dataframe thead th {\n",
       "        text-align: right;\n",
       "    }\n",
       "</style>\n",
       "<table border=\"1\" class=\"dataframe\">\n",
       "  <thead>\n",
       "    <tr style=\"text-align: right;\">\n",
       "      <th></th>\n",
       "      <th>student_id</th>\n",
       "      <th>name</th>\n",
       "      <th>marks</th>\n",
       "      <th>student_id</th>\n",
       "      <th>name</th>\n",
       "      <th>marks</th>\n",
       "    </tr>\n",
       "  </thead>\n",
       "  <tbody>\n",
       "    <tr>\n",
       "      <th>0</th>\n",
       "      <td>S1</td>\n",
       "      <td>Danniella Fenton</td>\n",
       "      <td>200</td>\n",
       "      <td>S4</td>\n",
       "      <td>Scarlette Fisher</td>\n",
       "      <td>201</td>\n",
       "    </tr>\n",
       "    <tr>\n",
       "      <th>1</th>\n",
       "      <td>S2</td>\n",
       "      <td>Ryder Storey</td>\n",
       "      <td>210</td>\n",
       "      <td>S5</td>\n",
       "      <td>Carla Williamson</td>\n",
       "      <td>200</td>\n",
       "    </tr>\n",
       "    <tr>\n",
       "      <th>2</th>\n",
       "      <td>S3</td>\n",
       "      <td>Bryce Jensen</td>\n",
       "      <td>190</td>\n",
       "      <td>S6</td>\n",
       "      <td>Dante Morse</td>\n",
       "      <td>198</td>\n",
       "    </tr>\n",
       "    <tr>\n",
       "      <th>3</th>\n",
       "      <td>S4</td>\n",
       "      <td>Ed Bernal</td>\n",
       "      <td>222</td>\n",
       "      <td>S7</td>\n",
       "      <td>Kaiser William</td>\n",
       "      <td>219</td>\n",
       "    </tr>\n",
       "    <tr>\n",
       "      <th>4</th>\n",
       "      <td>S5</td>\n",
       "      <td>Kwame Morin</td>\n",
       "      <td>199</td>\n",
       "      <td>S8</td>\n",
       "      <td>Madeeha Preston</td>\n",
       "      <td>201</td>\n",
       "    </tr>\n",
       "  </tbody>\n",
       "</table>\n",
       "</div>"
      ],
      "text/plain": [
       "  student_id              name  marks student_id              name  marks\n",
       "0         S1  Danniella Fenton    200         S4  Scarlette Fisher    201\n",
       "1         S2      Ryder Storey    210         S5  Carla Williamson    200\n",
       "2         S3      Bryce Jensen    190         S6       Dante Morse    198\n",
       "3         S4         Ed Bernal    222         S7    Kaiser William    219\n",
       "4         S5       Kwame Morin    199         S8   Madeeha Preston    201"
      ]
     },
     "execution_count": 49,
     "metadata": {},
     "output_type": "execute_result"
    }
   ],
   "source": [
    "### code here\n",
    "pd.concat([student_data1,student_data2],axis=1)"
   ]
  },
  {
   "cell_type": "markdown",
   "metadata": {
    "id": "OT0_4R9Hz75Q"
   },
   "source": [
    "##### 13. Write a Pandas program to join the two dataframes using the common column of both dataframes."
   ]
  },
  {
   "cell_type": "code",
   "execution_count": 50,
   "metadata": {
    "id": "BXcQvrrtzKRZ"
   },
   "outputs": [
    {
     "data": {
      "text/html": [
       "<div>\n",
       "<style scoped>\n",
       "    .dataframe tbody tr th:only-of-type {\n",
       "        vertical-align: middle;\n",
       "    }\n",
       "\n",
       "    .dataframe tbody tr th {\n",
       "        vertical-align: top;\n",
       "    }\n",
       "\n",
       "    .dataframe thead th {\n",
       "        text-align: right;\n",
       "    }\n",
       "</style>\n",
       "<table border=\"1\" class=\"dataframe\">\n",
       "  <thead>\n",
       "    <tr style=\"text-align: right;\">\n",
       "      <th></th>\n",
       "      <th>student_id</th>\n",
       "      <th>name_x</th>\n",
       "      <th>marks_x</th>\n",
       "      <th>name_y</th>\n",
       "      <th>marks_y</th>\n",
       "    </tr>\n",
       "  </thead>\n",
       "  <tbody>\n",
       "    <tr>\n",
       "      <th>0</th>\n",
       "      <td>S4</td>\n",
       "      <td>Ed Bernal</td>\n",
       "      <td>222</td>\n",
       "      <td>Scarlette Fisher</td>\n",
       "      <td>201</td>\n",
       "    </tr>\n",
       "    <tr>\n",
       "      <th>1</th>\n",
       "      <td>S5</td>\n",
       "      <td>Kwame Morin</td>\n",
       "      <td>199</td>\n",
       "      <td>Carla Williamson</td>\n",
       "      <td>200</td>\n",
       "    </tr>\n",
       "  </tbody>\n",
       "</table>\n",
       "</div>"
      ],
      "text/plain": [
       "  student_id       name_x  marks_x            name_y  marks_y\n",
       "0         S4    Ed Bernal      222  Scarlette Fisher      201\n",
       "1         S5  Kwame Morin      199  Carla Williamson      200"
      ]
     },
     "execution_count": 50,
     "metadata": {},
     "output_type": "execute_result"
    }
   ],
   "source": [
    "### code here\n",
    "pd.merge(student_data1, student_data2, on='student_id')"
   ]
  },
  {
   "cell_type": "markdown",
   "metadata": {
    "id": "Dj90ddTu0PUF"
   },
   "source": [
    "###### 14. Write a Pandas program to join (left join) the two dataframes using keys from left dataframe only."
   ]
  },
  {
   "cell_type": "code",
   "execution_count": 51,
   "metadata": {
    "id": "i15MuKO4z_rt"
   },
   "outputs": [
    {
     "data": {
      "text/html": [
       "<div>\n",
       "<style scoped>\n",
       "    .dataframe tbody tr th:only-of-type {\n",
       "        vertical-align: middle;\n",
       "    }\n",
       "\n",
       "    .dataframe tbody tr th {\n",
       "        vertical-align: top;\n",
       "    }\n",
       "\n",
       "    .dataframe thead th {\n",
       "        text-align: right;\n",
       "    }\n",
       "</style>\n",
       "<table border=\"1\" class=\"dataframe\">\n",
       "  <thead>\n",
       "    <tr style=\"text-align: right;\">\n",
       "      <th></th>\n",
       "      <th>student_id</th>\n",
       "      <th>name_x</th>\n",
       "      <th>marks_x</th>\n",
       "      <th>name_y</th>\n",
       "      <th>marks_y</th>\n",
       "    </tr>\n",
       "  </thead>\n",
       "  <tbody>\n",
       "    <tr>\n",
       "      <th>0</th>\n",
       "      <td>S1</td>\n",
       "      <td>Danniella Fenton</td>\n",
       "      <td>200</td>\n",
       "      <td>NaN</td>\n",
       "      <td>NaN</td>\n",
       "    </tr>\n",
       "    <tr>\n",
       "      <th>1</th>\n",
       "      <td>S2</td>\n",
       "      <td>Ryder Storey</td>\n",
       "      <td>210</td>\n",
       "      <td>NaN</td>\n",
       "      <td>NaN</td>\n",
       "    </tr>\n",
       "    <tr>\n",
       "      <th>2</th>\n",
       "      <td>S3</td>\n",
       "      <td>Bryce Jensen</td>\n",
       "      <td>190</td>\n",
       "      <td>NaN</td>\n",
       "      <td>NaN</td>\n",
       "    </tr>\n",
       "    <tr>\n",
       "      <th>3</th>\n",
       "      <td>S4</td>\n",
       "      <td>Ed Bernal</td>\n",
       "      <td>222</td>\n",
       "      <td>Scarlette Fisher</td>\n",
       "      <td>201.0</td>\n",
       "    </tr>\n",
       "    <tr>\n",
       "      <th>4</th>\n",
       "      <td>S5</td>\n",
       "      <td>Kwame Morin</td>\n",
       "      <td>199</td>\n",
       "      <td>Carla Williamson</td>\n",
       "      <td>200.0</td>\n",
       "    </tr>\n",
       "  </tbody>\n",
       "</table>\n",
       "</div>"
      ],
      "text/plain": [
       "  student_id            name_x  marks_x            name_y  marks_y\n",
       "0         S1  Danniella Fenton      200               NaN      NaN\n",
       "1         S2      Ryder Storey      210               NaN      NaN\n",
       "2         S3      Bryce Jensen      190               NaN      NaN\n",
       "3         S4         Ed Bernal      222  Scarlette Fisher    201.0\n",
       "4         S5       Kwame Morin      199  Carla Williamson    200.0"
      ]
     },
     "execution_count": 51,
     "metadata": {},
     "output_type": "execute_result"
    }
   ],
   "source": [
    "#### code here\n",
    "pd.merge(student_data1, student_data2, on='student_id',how=\"left\")\n"
   ]
  },
  {
   "cell_type": "markdown",
   "metadata": {
    "id": "UAtEru2h0TzT"
   },
   "source": [
    "###### 15. Write a Pandas program to join two dataframes using keys from right dataframe only."
   ]
  },
  {
   "cell_type": "code",
   "execution_count": 52,
   "metadata": {
    "id": "RboFgy0kz_tU"
   },
   "outputs": [
    {
     "data": {
      "text/html": [
       "<div>\n",
       "<style scoped>\n",
       "    .dataframe tbody tr th:only-of-type {\n",
       "        vertical-align: middle;\n",
       "    }\n",
       "\n",
       "    .dataframe tbody tr th {\n",
       "        vertical-align: top;\n",
       "    }\n",
       "\n",
       "    .dataframe thead th {\n",
       "        text-align: right;\n",
       "    }\n",
       "</style>\n",
       "<table border=\"1\" class=\"dataframe\">\n",
       "  <thead>\n",
       "    <tr style=\"text-align: right;\">\n",
       "      <th></th>\n",
       "      <th>student_id</th>\n",
       "      <th>name_x</th>\n",
       "      <th>marks_x</th>\n",
       "      <th>name_y</th>\n",
       "      <th>marks_y</th>\n",
       "    </tr>\n",
       "  </thead>\n",
       "  <tbody>\n",
       "    <tr>\n",
       "      <th>0</th>\n",
       "      <td>S4</td>\n",
       "      <td>Ed Bernal</td>\n",
       "      <td>222.0</td>\n",
       "      <td>Scarlette Fisher</td>\n",
       "      <td>201</td>\n",
       "    </tr>\n",
       "    <tr>\n",
       "      <th>1</th>\n",
       "      <td>S5</td>\n",
       "      <td>Kwame Morin</td>\n",
       "      <td>199.0</td>\n",
       "      <td>Carla Williamson</td>\n",
       "      <td>200</td>\n",
       "    </tr>\n",
       "    <tr>\n",
       "      <th>2</th>\n",
       "      <td>S6</td>\n",
       "      <td>NaN</td>\n",
       "      <td>NaN</td>\n",
       "      <td>Dante Morse</td>\n",
       "      <td>198</td>\n",
       "    </tr>\n",
       "    <tr>\n",
       "      <th>3</th>\n",
       "      <td>S7</td>\n",
       "      <td>NaN</td>\n",
       "      <td>NaN</td>\n",
       "      <td>Kaiser William</td>\n",
       "      <td>219</td>\n",
       "    </tr>\n",
       "    <tr>\n",
       "      <th>4</th>\n",
       "      <td>S8</td>\n",
       "      <td>NaN</td>\n",
       "      <td>NaN</td>\n",
       "      <td>Madeeha Preston</td>\n",
       "      <td>201</td>\n",
       "    </tr>\n",
       "  </tbody>\n",
       "</table>\n",
       "</div>"
      ],
      "text/plain": [
       "  student_id       name_x  marks_x            name_y  marks_y\n",
       "0         S4    Ed Bernal    222.0  Scarlette Fisher      201\n",
       "1         S5  Kwame Morin    199.0  Carla Williamson      200\n",
       "2         S6          NaN      NaN       Dante Morse      198\n",
       "3         S7          NaN      NaN    Kaiser William      219\n",
       "4         S8          NaN      NaN   Madeeha Preston      201"
      ]
     },
     "execution_count": 52,
     "metadata": {},
     "output_type": "execute_result"
    }
   ],
   "source": [
    "### code here\n",
    "pd.merge(student_data1, student_data2, on='student_id',how=\"right\")\n"
   ]
  },
  {
   "cell_type": "code",
   "execution_count": null,
   "metadata": {
    "id": "AxYNmSqnkMEV"
   },
   "outputs": [],
   "source": []
  },
  {
   "cell_type": "code",
   "execution_count": 54,
   "metadata": {
    "id": "UwWp4U9BkMHU"
   },
   "outputs": [
    {
     "name": "stderr",
     "output_type": "stream",
     "text": [
      "C:\\Users\\pamar\\AppData\\Local\\Temp\\ipykernel_18752\\615119962.py:1: DtypeWarning: Columns (5,9) have mixed types. Specify dtype option on import or set low_memory=False.\n",
      "  df=pd.read_csv(\"ufo_sighting_data.csv\")\n"
     ]
    },
    {
     "data": {
      "text/html": [
       "<div>\n",
       "<style scoped>\n",
       "    .dataframe tbody tr th:only-of-type {\n",
       "        vertical-align: middle;\n",
       "    }\n",
       "\n",
       "    .dataframe tbody tr th {\n",
       "        vertical-align: top;\n",
       "    }\n",
       "\n",
       "    .dataframe thead th {\n",
       "        text-align: right;\n",
       "    }\n",
       "</style>\n",
       "<table border=\"1\" class=\"dataframe\">\n",
       "  <thead>\n",
       "    <tr style=\"text-align: right;\">\n",
       "      <th></th>\n",
       "      <th>Date_time</th>\n",
       "      <th>city</th>\n",
       "      <th>state/province</th>\n",
       "      <th>country</th>\n",
       "      <th>UFO_shape</th>\n",
       "      <th>length_of_encounter_seconds</th>\n",
       "      <th>described_duration_of_encounter</th>\n",
       "      <th>description</th>\n",
       "      <th>date_documented</th>\n",
       "      <th>latitude</th>\n",
       "      <th>longitude</th>\n",
       "    </tr>\n",
       "  </thead>\n",
       "  <tbody>\n",
       "    <tr>\n",
       "      <th>0</th>\n",
       "      <td>10/10/1949 20:30</td>\n",
       "      <td>san marcos</td>\n",
       "      <td>tx</td>\n",
       "      <td>us</td>\n",
       "      <td>cylinder</td>\n",
       "      <td>2700</td>\n",
       "      <td>45 minutes</td>\n",
       "      <td>This event took place in early fall around 194...</td>\n",
       "      <td>4/27/2004</td>\n",
       "      <td>29.8830556</td>\n",
       "      <td>-97.941111</td>\n",
       "    </tr>\n",
       "    <tr>\n",
       "      <th>1</th>\n",
       "      <td>10/10/1949 21:00</td>\n",
       "      <td>lackland afb</td>\n",
       "      <td>tx</td>\n",
       "      <td>NaN</td>\n",
       "      <td>light</td>\n",
       "      <td>7200</td>\n",
       "      <td>1-2 hrs</td>\n",
       "      <td>1949 Lackland AFB&amp;#44 TX.  Lights racing acros...</td>\n",
       "      <td>12/16/2005</td>\n",
       "      <td>29.38421</td>\n",
       "      <td>-98.581082</td>\n",
       "    </tr>\n",
       "    <tr>\n",
       "      <th>2</th>\n",
       "      <td>10/10/1955 17:00</td>\n",
       "      <td>chester (uk/england)</td>\n",
       "      <td>NaN</td>\n",
       "      <td>gb</td>\n",
       "      <td>circle</td>\n",
       "      <td>20</td>\n",
       "      <td>20 seconds</td>\n",
       "      <td>Green/Orange circular disc over Chester&amp;#44 En...</td>\n",
       "      <td>1/21/2008</td>\n",
       "      <td>53.2</td>\n",
       "      <td>-2.916667</td>\n",
       "    </tr>\n",
       "    <tr>\n",
       "      <th>3</th>\n",
       "      <td>10/10/1956 21:00</td>\n",
       "      <td>edna</td>\n",
       "      <td>tx</td>\n",
       "      <td>us</td>\n",
       "      <td>circle</td>\n",
       "      <td>20</td>\n",
       "      <td>1/2 hour</td>\n",
       "      <td>My older brother and twin sister were leaving ...</td>\n",
       "      <td>1/17/2004</td>\n",
       "      <td>28.9783333</td>\n",
       "      <td>-96.645833</td>\n",
       "    </tr>\n",
       "    <tr>\n",
       "      <th>4</th>\n",
       "      <td>10/10/1960 20:00</td>\n",
       "      <td>kaneohe</td>\n",
       "      <td>hi</td>\n",
       "      <td>us</td>\n",
       "      <td>light</td>\n",
       "      <td>900</td>\n",
       "      <td>15 minutes</td>\n",
       "      <td>AS a Marine 1st Lt. flying an FJ4B fighter/att...</td>\n",
       "      <td>1/22/2004</td>\n",
       "      <td>21.4180556</td>\n",
       "      <td>-157.803611</td>\n",
       "    </tr>\n",
       "    <tr>\n",
       "      <th>...</th>\n",
       "      <td>...</td>\n",
       "      <td>...</td>\n",
       "      <td>...</td>\n",
       "      <td>...</td>\n",
       "      <td>...</td>\n",
       "      <td>...</td>\n",
       "      <td>...</td>\n",
       "      <td>...</td>\n",
       "      <td>...</td>\n",
       "      <td>...</td>\n",
       "      <td>...</td>\n",
       "    </tr>\n",
       "    <tr>\n",
       "      <th>80327</th>\n",
       "      <td>9/9/2013 21:15</td>\n",
       "      <td>nashville</td>\n",
       "      <td>tn</td>\n",
       "      <td>us</td>\n",
       "      <td>light</td>\n",
       "      <td>600.0</td>\n",
       "      <td>10 minutes</td>\n",
       "      <td>Round from the distance/slowly changing colors...</td>\n",
       "      <td>9/30/2013</td>\n",
       "      <td>36.165833</td>\n",
       "      <td>-86.784444</td>\n",
       "    </tr>\n",
       "    <tr>\n",
       "      <th>80328</th>\n",
       "      <td>9/9/2013 22:00</td>\n",
       "      <td>boise</td>\n",
       "      <td>id</td>\n",
       "      <td>us</td>\n",
       "      <td>circle</td>\n",
       "      <td>1200.0</td>\n",
       "      <td>20 minutes</td>\n",
       "      <td>Boise&amp;#44 ID&amp;#44 spherical&amp;#44 20 min&amp;#44 10 r...</td>\n",
       "      <td>9/30/2013</td>\n",
       "      <td>43.613611</td>\n",
       "      <td>-116.202500</td>\n",
       "    </tr>\n",
       "    <tr>\n",
       "      <th>80329</th>\n",
       "      <td>9/9/2013 22:00</td>\n",
       "      <td>napa</td>\n",
       "      <td>ca</td>\n",
       "      <td>us</td>\n",
       "      <td>other</td>\n",
       "      <td>1200.0</td>\n",
       "      <td>hour</td>\n",
       "      <td>Napa UFO&amp;#44</td>\n",
       "      <td>9/30/2013</td>\n",
       "      <td>38.297222</td>\n",
       "      <td>-122.284444</td>\n",
       "    </tr>\n",
       "    <tr>\n",
       "      <th>80330</th>\n",
       "      <td>9/9/2013 22:20</td>\n",
       "      <td>vienna</td>\n",
       "      <td>va</td>\n",
       "      <td>us</td>\n",
       "      <td>circle</td>\n",
       "      <td>5.0</td>\n",
       "      <td>5 seconds</td>\n",
       "      <td>Saw a five gold lit cicular craft moving fastl...</td>\n",
       "      <td>9/30/2013</td>\n",
       "      <td>38.901111</td>\n",
       "      <td>-77.265556</td>\n",
       "    </tr>\n",
       "    <tr>\n",
       "      <th>80331</th>\n",
       "      <td>9/9/2013 23:00</td>\n",
       "      <td>edmond</td>\n",
       "      <td>ok</td>\n",
       "      <td>us</td>\n",
       "      <td>cigar</td>\n",
       "      <td>1020.0</td>\n",
       "      <td>17 minutes</td>\n",
       "      <td>2 witnesses 2  miles apart&amp;#44 Red &amp;amp; White...</td>\n",
       "      <td>9/30/2013</td>\n",
       "      <td>35.652778</td>\n",
       "      <td>-97.477778</td>\n",
       "    </tr>\n",
       "  </tbody>\n",
       "</table>\n",
       "<p>80332 rows × 11 columns</p>\n",
       "</div>"
      ],
      "text/plain": [
       "              Date_time                  city state/province country  \\\n",
       "0      10/10/1949 20:30            san marcos             tx      us   \n",
       "1      10/10/1949 21:00          lackland afb             tx     NaN   \n",
       "2      10/10/1955 17:00  chester (uk/england)            NaN      gb   \n",
       "3      10/10/1956 21:00                  edna             tx      us   \n",
       "4      10/10/1960 20:00               kaneohe             hi      us   \n",
       "...                 ...                   ...            ...     ...   \n",
       "80327    9/9/2013 21:15             nashville             tn      us   \n",
       "80328    9/9/2013 22:00                 boise             id      us   \n",
       "80329    9/9/2013 22:00                  napa             ca      us   \n",
       "80330    9/9/2013 22:20                vienna             va      us   \n",
       "80331    9/9/2013 23:00                edmond             ok      us   \n",
       "\n",
       "      UFO_shape length_of_encounter_seconds described_duration_of_encounter  \\\n",
       "0      cylinder                        2700                      45 minutes   \n",
       "1         light                        7200                         1-2 hrs   \n",
       "2        circle                          20                      20 seconds   \n",
       "3        circle                          20                        1/2 hour   \n",
       "4         light                         900                      15 minutes   \n",
       "...         ...                         ...                             ...   \n",
       "80327     light                       600.0                      10 minutes   \n",
       "80328    circle                      1200.0                      20 minutes   \n",
       "80329     other                      1200.0                            hour   \n",
       "80330    circle                         5.0                       5 seconds   \n",
       "80331     cigar                      1020.0                      17 minutes   \n",
       "\n",
       "                                             description date_documented  \\\n",
       "0      This event took place in early fall around 194...       4/27/2004   \n",
       "1      1949 Lackland AFB&#44 TX.  Lights racing acros...      12/16/2005   \n",
       "2      Green/Orange circular disc over Chester&#44 En...       1/21/2008   \n",
       "3      My older brother and twin sister were leaving ...       1/17/2004   \n",
       "4      AS a Marine 1st Lt. flying an FJ4B fighter/att...       1/22/2004   \n",
       "...                                                  ...             ...   \n",
       "80327  Round from the distance/slowly changing colors...       9/30/2013   \n",
       "80328  Boise&#44 ID&#44 spherical&#44 20 min&#44 10 r...       9/30/2013   \n",
       "80329                                       Napa UFO&#44       9/30/2013   \n",
       "80330  Saw a five gold lit cicular craft moving fastl...       9/30/2013   \n",
       "80331  2 witnesses 2  miles apart&#44 Red &amp; White...       9/30/2013   \n",
       "\n",
       "         latitude   longitude  \n",
       "0      29.8830556  -97.941111  \n",
       "1        29.38421  -98.581082  \n",
       "2            53.2   -2.916667  \n",
       "3      28.9783333  -96.645833  \n",
       "4      21.4180556 -157.803611  \n",
       "...           ...         ...  \n",
       "80327   36.165833  -86.784444  \n",
       "80328   43.613611 -116.202500  \n",
       "80329   38.297222 -122.284444  \n",
       "80330   38.901111  -77.265556  \n",
       "80331   35.652778  -97.477778  \n",
       "\n",
       "[80332 rows x 11 columns]"
      ]
     },
     "execution_count": 54,
     "metadata": {},
     "output_type": "execute_result"
    }
   ],
   "source": [
    "df=pd.read_csv(\"ufo_sighting_data.csv\")\n",
    "df"
   ]
  },
  {
   "cell_type": "markdown",
   "metadata": {
    "id": "RtrM2Rw6gHX6"
   },
   "source": [
    "###### import UFO dataset"
   ]
  },
  {
   "cell_type": "markdown",
   "metadata": {
    "id": "spB0fHQ6hGF0"
   },
   "source": [
    "######16. Write a Pandas program to create the todays date."
   ]
  },
  {
   "cell_type": "code",
   "execution_count": 55,
   "metadata": {
    "id": "eH8bR6qjz_xK"
   },
   "outputs": [
    {
     "name": "stdout",
     "output_type": "stream",
     "text": [
      "2023-01-27\n"
     ]
    }
   ],
   "source": [
    "### code here\n",
    "import datetime\n",
    "today_date = datetime.date.today()\n",
    "print(today_date)\n"
   ]
  },
  {
   "cell_type": "markdown",
   "metadata": {
    "id": "7LKWRlyHhPaq"
   },
   "source": [
    "###### 17. Write a Pandas program to get the current date, oldest date and number of days between Current date and oldest date of Ufo dataset."
   ]
  },
  {
   "cell_type": "code",
   "execution_count": 61,
   "metadata": {
    "id": "YaGaEGVRhIyO"
   },
   "outputs": [
    {
     "name": "stderr",
     "output_type": "stream",
     "text": [
      "C:\\Users\\pamar\\AppData\\Local\\Temp\\ipykernel_18752\\2623920360.py:5: DtypeWarning: Columns (5,9) have mixed types. Specify dtype option on import or set low_memory=False.\n",
      "  ufo_data = pd.read_csv(\"ufo_sighting_data.csv\")\n"
     ]
    },
    {
     "name": "stdout",
     "output_type": "stream",
     "text": [
      "Current date:  2023-01-27\n",
      "Oldest date:  1906-11-11\n",
      "Number of days between current date and oldest date:  42446\n"
     ]
    }
   ],
   "source": [
    "#### code here\n",
    "import pandas as pd\n",
    "\n",
    "\n",
    "# Extract the 'datetime' column\n",
    "dates = df['Date_time']\n",
    "\n",
    "# Replace 24 with 0 in the hour value\n",
    "dates = dates.str.replace(\"24:\", \"00:\")\n",
    "\n",
    "# Convert the column to datetime data type\n",
    "dates = pd.to_datetime(dates)\n",
    "\n",
    "# Get the current date\n",
    "current_date = pd.to_datetime('today').date()\n",
    "\n",
    "# Get the oldest date from the 'datetime' column\n",
    "oldest_date = dates.min().date()\n",
    "\n",
    "# Calculate the number of days between the current date and oldest date\n",
    "days_diff = (current_date - oldest_date).days\n",
    "\n",
    "print(\"Current date: \", current_date)\n",
    "print(\"Oldest date: \", oldest_date)\n",
    "print(\"Number of days between current date and oldest date: \", days_diff)\n"
   ]
  },
  {
   "cell_type": "markdown",
   "metadata": {
    "id": "gwS-QG85hcZZ"
   },
   "source": [
    "###### 18. Write a Pandas program to get all the info of the dataframe between 1950-10-10 and 1960-10-10."
   ]
  },
  {
   "cell_type": "code",
   "execution_count": 65,
   "metadata": {
    "id": "BdQSfqNThI1r"
   },
   "outputs": [
    {
     "name": "stdout",
     "output_type": "stream",
     "text": [
      "              Date_time                  city state/province country  \\\n",
      "2      10/10/1955 17:00  chester (uk/england)            NaN      gb   \n",
      "3      10/10/1956 21:00                  edna             tx      us   \n",
      "480     10/1/1952 03:30       fukuoka (japan)            NaN     NaN   \n",
      "481     10/1/1952 12:00           kansas city             mo      us   \n",
      "482     10/1/1954 19:00             flatwoods             wv      us   \n",
      "...                 ...                   ...            ...     ...   \n",
      "79262    9/5/1960 21:00               buffalo             ny      us   \n",
      "79668    9/7/1958 19:00                arthur             nd      us   \n",
      "80101    9/9/1952 20:00          philadelphia             pa      us   \n",
      "80102    9/9/1954 12:30              beaumont             tx      us   \n",
      "80103    9/9/1956 05:55               norfolk             va      us   \n",
      "\n",
      "      UFO_shape length_of_encounter_seconds described_duration_of_encounter  \\\n",
      "2        circle                          20                      20 seconds   \n",
      "3        circle                          20                        1/2 hour   \n",
      "480        disk                        1200                   about 20 mins   \n",
      "481        disk                          90                         90 sec.   \n",
      "482      circle                          60                        1 minute   \n",
      "...         ...                         ...                             ...   \n",
      "79262      oval                       180.0                       3 minutes   \n",
      "79668   unknown                       900.0                       5-15 min.   \n",
      "80101    circle                       180.0                       3 minutes   \n",
      "80102      disk                       300.0                       5 minutes   \n",
      "80103     cigar                        90.0                     1.5 minutes   \n",
      "\n",
      "                                             description date_documented  \\\n",
      "2      Green/Orange circular disc over Chester&#44 En...       1/21/2008   \n",
      "3      My older brother and twin sister were leaving ...       1/17/2004   \n",
      "480    UFO seen by multiple U. S. military personnel;...       12/7/2006   \n",
      "481    1952 daylight sighting of multiple discs in fo...      10/31/2008   \n",
      "482    I saw the craft go across the horizon.  It app...       4/12/2013   \n",
      "...                                                  ...             ...   \n",
      "79262  Precise movements of a &quot;craft&quot; appar...       9/15/2005   \n",
      "79668  Two lights of alternating color traveling and ...      10/31/2003   \n",
      "80101                   saucers in a line over Phila Pa.      12/12/2009   \n",
      "80102  Aprox. 30 Disk shaped UFOs fell out of clouds ...       1/17/2004   \n",
      "80103  Unidentified Object Hovering over Interstate 2...       2/24/2007   \n",
      "\n",
      "         latitude   longitude  \n",
      "2            53.2   -2.916667  \n",
      "3      28.9783333  -96.645833  \n",
      "480     33.590355  130.401716  \n",
      "481    39.0997222  -94.578333  \n",
      "482    38.7230556  -80.650000  \n",
      "...           ...         ...  \n",
      "79262   42.886389  -78.878611  \n",
      "79668   47.104167  -97.217778  \n",
      "80101   39.952222  -75.164167  \n",
      "80102   30.085833  -94.101667  \n",
      "80103   36.846667  -76.285556  \n",
      "\n",
      "[465 rows x 11 columns]\n"
     ]
    }
   ],
   "source": [
    "### code here \n",
    "dates = df['Date_time']\n",
    "dates = dates.str.replace(\"24:\", \"00:\")\n",
    "\n",
    "\n",
    "# Convert the column to datetime data type\n",
    "dates = pd.to_datetime(dates)\n",
    "\n",
    "# Set the date range\n",
    "start_date = pd.to_datetime(\"1950-10-10\")\n",
    "end_date = pd.to_datetime(\"1960-10-10\")\n",
    "\n",
    "# Filter the DataFrame based on the date range\n",
    "ufo_data_filtered = ufo_data[(dates >= start_date) & (dates <= end_date)]\n",
    "\n",
    "# Print the filtered DataFrame\n",
    "print(ufo_data_filtered)"
   ]
  },
  {
   "cell_type": "code",
   "execution_count": null,
   "metadata": {
    "id": "T19HD5xVhI4d"
   },
   "outputs": [],
   "source": []
  }
 ],
 "metadata": {
  "colab": {
   "collapsed_sections": [],
   "name": "pandas_assignment_day_3.ipynb",
   "provenance": []
  },
  "kernelspec": {
   "display_name": "Python 3 (ipykernel)",
   "language": "python",
   "name": "python3"
  },
  "language_info": {
   "codemirror_mode": {
    "name": "ipython",
    "version": 3
   },
   "file_extension": ".py",
   "mimetype": "text/x-python",
   "name": "python",
   "nbconvert_exporter": "python",
   "pygments_lexer": "ipython3",
   "version": "3.9.13"
  }
 },
 "nbformat": 4,
 "nbformat_minor": 1
}
